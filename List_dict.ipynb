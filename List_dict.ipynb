{
  "nbformat": 4,
  "nbformat_minor": 0,
  "metadata": {
    "colab": {
      "name": "List_dict.ipynb",
      "provenance": [],
      "authorship_tag": "ABX9TyN1s2wInYva/p+sADbHga1Y",
      "include_colab_link": true
    },
    "kernelspec": {
      "name": "python3",
      "display_name": "Python 3"
    },
    "language_info": {
      "name": "python"
    }
  },
  "cells": [
    {
      "cell_type": "markdown",
      "metadata": {
        "id": "view-in-github",
        "colab_type": "text"
      },
      "source": [
        "<a href=\"https://colab.research.google.com/github/gaurav8901/Basic_Python_Matplotlib/blob/main/List_dict.ipynb\" target=\"_parent\"><img src=\"https://colab.research.google.com/assets/colab-badge.svg\" alt=\"Open In Colab\"/></a>"
      ]
    },
    {
      "cell_type": "markdown",
      "source": [
        "\n",
        "# **Dictionary**\n",
        "\n"
      ],
      "metadata": {
        "id": "uyxjGgomduoJ"
      }
    },
    {
      "cell_type": "code",
      "execution_count": 26,
      "metadata": {
        "id": "DBE8w4jxbjp0"
      },
      "outputs": [],
      "source": [
        "myDict = {\n",
        "    \"Fast\": \"In a Quick Manner\",\n",
        "    \"Priya\": \"A Coder\",\n",
        "    \"Marks\": [1, 2, 5],\n",
        "    # dict in dict\n",
        "    \"anotherdict\": {'Priya': 'Player'}\n",
        "}"
      ]
    },
    {
      "cell_type": "code",
      "source": [
        "print(type(myDict))\n",
        "print(myDict['Priya'])\n",
        "\n",
        "myDict['Marks'] = [45, 78]\n",
        "print('New marks: ',myDict['Marks'])\n",
        "print(myDict['anotherdict']['Priya'])"
      ],
      "metadata": {
        "colab": {
          "base_uri": "https://localhost:8080/"
        },
        "id": "0QhNmggmb6I4",
        "outputId": "b656d487-67ad-4396-97c2-7ed5188277c0"
      },
      "execution_count": 27,
      "outputs": [
        {
          "output_type": "stream",
          "name": "stdout",
          "text": [
            "<class 'dict'>\n",
            "A Coder\n",
            "New marks:  [45, 78]\n",
            "Player\n"
          ]
        }
      ]
    },
    {
      "cell_type": "code",
      "source": [
        "# Prints the keys of the dictionary\n",
        "print('keys are:',list(myDict.keys()))\n",
        "\n",
        "# Prints the values of the dictionary \n",
        "print(myDict.values())\n",
        "\n",
        "# Prints the (key, value) for all contents of the dictionary  \n",
        "print(myDict.items())\n",
        "print('**********')  \n",
        "print(myDict)"
      ],
      "metadata": {
        "colab": {
          "base_uri": "https://localhost:8080/"
        },
        "id": "LVCOoq1FcD13",
        "outputId": "6476b8e2-1bd8-4bfe-af33-86896f4427ff"
      },
      "execution_count": 28,
      "outputs": [
        {
          "output_type": "stream",
          "name": "stdout",
          "text": [
            "keys are: ['Fast', 'Priya', 'Marks', 'anotherdict']\n",
            "dict_values(['In a Quick Manner', 'A Coder', [45, 78], {'Priya': 'Player'}])\n",
            "dict_items([('Fast', 'In a Quick Manner'), ('Priya', 'A Coder'), ('Marks', [45, 78]), ('anotherdict', {'Priya': 'Player'})])\n",
            "**********\n",
            "{'Fast': 'In a Quick Manner', 'Priya': 'A Coder', 'Marks': [45, 78], 'anotherdict': {'Priya': 'Player'}}\n"
          ]
        }
      ]
    },
    {
      "cell_type": "code",
      "source": [
        "updateDict = {\n",
        "    \"Lovish\": \"Friend\",\n",
        "    \"Divya\": \"Friend\",\n",
        "    \"Shubham\": \"Friend\",\n",
        "    \"harry\": \"A Dancer\"\n",
        "}\n",
        "# Updates the dictionary by adding key-value pairs from updateDict\n",
        "myDict.update(updateDict) \n",
        "print(myDict)"
      ],
      "metadata": {
        "colab": {
          "base_uri": "https://localhost:8080/"
        },
        "id": "qEkPZ2Bqcak4",
        "outputId": "543128da-0337-4a6b-dee5-b7f320b7d8ca"
      },
      "execution_count": 29,
      "outputs": [
        {
          "output_type": "stream",
          "name": "stdout",
          "text": [
            "{'Fast': 'In a Quick Manner', 'Priya': 'A Coder', 'Marks': [45, 78], 'anotherdict': {'Priya': 'Player'}, 'Lovish': 'Friend', 'Divya': 'Friend', 'Shubham': 'Friend', 'harry': 'A Dancer'}\n"
          ]
        }
      ]
    },
    {
      "cell_type": "markdown",
      "source": [
        "# **List**"
      ],
      "metadata": {
        "id": "8o8kqi0nd4s0"
      }
    },
    {
      "cell_type": "code",
      "source": [
        "# we can  store different data types in list\n",
        "list1 = [46, \"Bhavna\", False, 6.9,\"Rohan\", \"Sam\", \"Divya\", 50, 21]\n",
        "\n",
        "print(type(list1))\n",
        "print('List is: ',list1)\n",
        "# Value at index 2 \n",
        "print(list1[2])\n",
        "\n",
        "# list slicing (index 4 is excluded)\n",
        "print(list1[0:4])"
      ],
      "metadata": {
        "colab": {
          "base_uri": "https://localhost:8080/"
        },
        "id": "dVP0MJ0UdBsg",
        "outputId": "bb7db4c7-abe2-4b9f-9c67-608d279226e7"
      },
      "execution_count": 33,
      "outputs": [
        {
          "output_type": "stream",
          "name": "stdout",
          "text": [
            "<class 'list'>\n",
            "List is:  [46, 'Bhavna', False, 6.9, 'Rohan', 'Sam', 'Divya', 50, 21]\n",
            "False\n",
            "[46, 'Bhavna', False, 6.9]\n"
          ]
        }
      ]
    },
    {
      "cell_type": "code",
      "source": [
        "# reversing the list\n",
        "list1.reverse() \n",
        "print('reversed: ',list1)\n",
        "\n",
        "list1.append(45)  \n",
        "print('element added at last: ',list1)\n",
        "\n",
        "# inserts 544 at index 2\n",
        "list1.insert(2, 544) \n",
        "print('element inserting at index 2: ',list1)\n",
        "\n",
        "list1.pop(2) # removes element at index 2\n",
        "print('removing item at index 2: ',list1)\n",
        "\n",
        "list1.remove(21) # removes 21 from the list\n",
        "print('removing 21 from the list: ',list1)\n",
        "\n",
        "print('final list: ',list1)"
      ],
      "metadata": {
        "colab": {
          "base_uri": "https://localhost:8080/"
        },
        "id": "-FXG-50oeGLN",
        "outputId": "818054c1-2246-47e2-c938-04a639dea5e1"
      },
      "execution_count": 34,
      "outputs": [
        {
          "output_type": "stream",
          "name": "stdout",
          "text": [
            "reversed:  [21, 50, 'Divya', 'Sam', 'Rohan', 6.9, False, 'Bhavna', 46]\n",
            "element added at last:  [21, 50, 'Divya', 'Sam', 'Rohan', 6.9, False, 'Bhavna', 46, 45]\n",
            "element inserting at index 2:  [21, 50, 544, 'Divya', 'Sam', 'Rohan', 6.9, False, 'Bhavna', 46, 45]\n",
            "removing item at index 2:  [21, 50, 'Divya', 'Sam', 'Rohan', 6.9, False, 'Bhavna', 46, 45]\n",
            "removing 21 from the list:  [50, 'Divya', 'Sam', 'Rohan', 6.9, False, 'Bhavna', 46, 45]\n",
            "final list:  [50, 'Divya', 'Sam', 'Rohan', 6.9, False, 'Bhavna', 46, 45]\n"
          ]
        }
      ]
    },
    {
      "cell_type": "markdown",
      "source": [
        "# Set"
      ],
      "metadata": {
        "id": "1HuF5gXkg88r"
      }
    },
    {
      "cell_type": "code",
      "source": [
        "set1 = {1, 3, 4, 5, 1}\n",
        "print(type(set1))\n",
        "print(set1)"
      ],
      "metadata": {
        "colab": {
          "base_uri": "https://localhost:8080/"
        },
        "id": "cVJNerEZg-Wu",
        "outputId": "dc0d1775-765f-40fb-d4cb-f59cead7d85e"
      },
      "execution_count": 47,
      "outputs": [
        {
          "output_type": "stream",
          "name": "stdout",
          "text": [
            "<class 'set'>\n",
            "{1, 3, 4, 5}\n"
          ]
        }
      ]
    },
    {
      "cell_type": "code",
      "source": [
        "set1.add(6)\n",
        "set1.add(11)\n",
        "set1.add(18)\n",
        "# Adding a value repeatedly does not changes a set\n",
        "set1.add(11) \n",
        "print(set1)\n",
        "\n",
        "# adding set into set\n",
        "# set1.add((21, 5, 43))\n",
        "print('updated set: ',set1)"
      ],
      "metadata": {
        "colab": {
          "base_uri": "https://localhost:8080/"
        },
        "id": "ywkq5sOhhn8c",
        "outputId": "d61ae7fe-6f58-45f6-87b4-2d7c61b44599"
      },
      "execution_count": 48,
      "outputs": [
        {
          "output_type": "stream",
          "name": "stdout",
          "text": [
            "{1, 3, 4, 5, 6, 11, 18}\n",
            "updated set:  {1, 3, 4, 5, 6, 11, 18}\n"
          ]
        }
      ]
    },
    {
      "cell_type": "code",
      "source": [
        "## Length of the Set\n",
        "print(len(set1))"
      ],
      "metadata": {
        "colab": {
          "base_uri": "https://localhost:8080/"
        },
        "id": "mhgITZCOjDKs",
        "outputId": "8f84be2e-797d-45d6-d511-9857a3b40e01"
      },
      "execution_count": 49,
      "outputs": [
        {
          "output_type": "stream",
          "name": "stdout",
          "text": [
            "7\n"
          ]
        }
      ]
    },
    {
      "cell_type": "code",
      "source": [
        "## Removal of an Item\n",
        "set1.remove(5)\n",
        "print(set1)"
      ],
      "metadata": {
        "colab": {
          "base_uri": "https://localhost:8080/"
        },
        "id": "J_HCRXVVjFA2",
        "outputId": "5491fc20-7ebd-433b-e90c-6ae6e000e83c"
      },
      "execution_count": 50,
      "outputs": [
        {
          "output_type": "stream",
          "name": "stdout",
          "text": [
            "{1, 3, 4, 6, 11, 18}\n"
          ]
        }
      ]
    },
    {
      "cell_type": "code",
      "source": [
        "# remove first element\n",
        "print(set1.pop())\n",
        "print(set1)"
      ],
      "metadata": {
        "colab": {
          "base_uri": "https://localhost:8080/"
        },
        "id": "0uz3za0vjXX-",
        "outputId": "466f4b09-3163-40ad-b118-a1263beb634c"
      },
      "execution_count": 51,
      "outputs": [
        {
          "output_type": "stream",
          "name": "stdout",
          "text": [
            "1\n",
            "{3, 4, 6, 11, 18}\n"
          ]
        }
      ]
    },
    {
      "cell_type": "markdown",
      "source": [
        "# **Loops**"
      ],
      "metadata": {
        "id": "YLDzQr9QqKll"
      }
    },
    {
      "cell_type": "code",
      "source": [
        "for val in set1:\n",
        "  print(val)\n",
        "\n",
        "print(\"Done\")"
      ],
      "metadata": {
        "colab": {
          "base_uri": "https://localhost:8080/"
        },
        "id": "Ilaxxyemnz5x",
        "outputId": "2a3db418-220a-4dcb-8289-35848b634cf5"
      },
      "execution_count": 54,
      "outputs": [
        {
          "output_type": "stream",
          "name": "stdout",
          "text": [
            "3\n",
            "4\n",
            "6\n",
            "11\n",
            "18\n",
            "Done\n"
          ]
        }
      ]
    },
    {
      "cell_type": "code",
      "source": [
        "for id,val in enumerate(set1):\n",
        "    print(id, val)"
      ],
      "metadata": {
        "colab": {
          "base_uri": "https://localhost:8080/"
        },
        "id": "Nq28FF7Voq18",
        "outputId": "eb09265a-e73e-4f8d-cdee-104bddfe496d"
      },
      "execution_count": 56,
      "outputs": [
        {
          "output_type": "stream",
          "name": "stdout",
          "text": [
            "0 3\n",
            "1 4\n",
            "2 6\n",
            "3 11\n",
            "4 18\n"
          ]
        }
      ]
    },
    {
      "cell_type": "code",
      "source": [
        "for id in range(len(list1)):\n",
        "        print(list1[id])"
      ],
      "metadata": {
        "colab": {
          "base_uri": "https://localhost:8080/"
        },
        "id": "h0wWhiTro06y",
        "outputId": "5e4a0b24-f5b1-4b3c-d2f6-d0490125c6a7"
      },
      "execution_count": 58,
      "outputs": [
        {
          "output_type": "stream",
          "name": "stdout",
          "text": [
            "50\n",
            "Divya\n",
            "Sam\n",
            "Rohan\n",
            "6.9\n",
            "False\n",
            "Bhavna\n",
            "46\n",
            "45\n"
          ]
        }
      ]
    },
    {
      "cell_type": "code",
      "source": [
        "# using iterator over set\n",
        "i = iter(set1)\n",
        "while True:\n",
        "    try:\n",
        "        print(next(i))\n",
        "    except StopIteration:\n",
        "        break"
      ],
      "metadata": {
        "colab": {
          "base_uri": "https://localhost:8080/"
        },
        "id": "Qa-oinKppOh-",
        "outputId": "ef734821-5d6f-4809-8c65-94fd44caff77"
      },
      "execution_count": 59,
      "outputs": [
        {
          "output_type": "stream",
          "name": "stdout",
          "text": [
            "3\n",
            "4\n",
            "6\n",
            "11\n",
            "18\n"
          ]
        }
      ]
    },
    {
      "cell_type": "markdown",
      "source": [
        "# **Functions**"
      ],
      "metadata": {
        "id": "bfakwPyMqNWj"
      }
    },
    {
      "cell_type": "code",
      "source": [
        "def percent(marks):\n",
        "    p = ((marks[0] + marks[1] + marks[2]+ marks[3])/400 )*100\n",
        "    return p\n",
        "\n",
        "# converting set into list first\n",
        "marks1 = list(set1)\n",
        "print('marks1 are: ',marks1)\n",
        "percentage1 = percent(marks1)\n",
        "\n",
        "marks2 = [75, 98, 88, 78]\n",
        "percentage2 = percent(marks2)\n",
        "print(percentage1, percentage2)"
      ],
      "metadata": {
        "colab": {
          "base_uri": "https://localhost:8080/"
        },
        "id": "VbK6LwfYqPU2",
        "outputId": "f59a7639-6285-4fdd-86c8-32d78bc15ff4"
      },
      "execution_count": 63,
      "outputs": [
        {
          "output_type": "stream",
          "name": "stdout",
          "text": [
            "marks1 are:  [3, 4, 6, 11, 18]\n",
            "6.0 84.75\n"
          ]
        }
      ]
    },
    {
      "cell_type": "markdown",
      "source": [
        "# **Mean and Variance**"
      ],
      "metadata": {
        "id": "7Q2MEJzAr6AF"
      }
    },
    {
      "cell_type": "code",
      "source": [
        "import statistics\n",
        " \n",
        "# copying data from set\n",
        "data1 = marks1\n",
        " \n",
        "mean_data = statistics.mean(data1)\n",
        " \n",
        "# Printing the mean\n",
        "print(\"Mean is :\", mean_data)"
      ],
      "metadata": {
        "colab": {
          "base_uri": "https://localhost:8080/"
        },
        "id": "kV3L6zR7r46n",
        "outputId": "fe0916da-4ff9-4084-9a7c-aece43f3ae7a"
      },
      "execution_count": 65,
      "outputs": [
        {
          "output_type": "stream",
          "name": "stdout",
          "text": [
            "Mean is : 8.4\n"
          ]
        }
      ]
    },
    {
      "cell_type": "code",
      "source": [
        "variance_data = statistics.variance(data1) \n",
        "\n",
        "print(variance_data)\n"
      ],
      "metadata": {
        "colab": {
          "base_uri": "https://localhost:8080/"
        },
        "id": "AYmATmBKsrQ9",
        "outputId": "6263bf4d-420e-4b4b-8935-42fcff34caf1"
      },
      "execution_count": 66,
      "outputs": [
        {
          "output_type": "stream",
          "name": "stdout",
          "text": [
            "38.3\n"
          ]
        }
      ]
    },
    {
      "cell_type": "code",
      "source": [
        "median_data = statistics.median(data1) \n",
        "print(median_data)"
      ],
      "metadata": {
        "colab": {
          "base_uri": "https://localhost:8080/"
        },
        "id": "UyPcE8ePswwe",
        "outputId": "9b581070-abca-419f-eb90-dac96ac5efd0"
      },
      "execution_count": 68,
      "outputs": [
        {
          "output_type": "stream",
          "name": "stdout",
          "text": [
            "6\n"
          ]
        }
      ]
    },
    {
      "cell_type": "markdown",
      "source": [
        "# **Graphs Plotting**"
      ],
      "metadata": {
        "id": "5ArOAlk8u5qk"
      }
    },
    {
      "cell_type": "code",
      "source": [
        "from matplotlib import pyplot as plt\n",
        "\n",
        "\n",
        "set2 = {21, 44, 64, 85, 91}\n",
        "data2 = list(set2)\n",
        "plt.scatter(data1,data2,c='g')\n",
        "plt.xlabel('data1')\n",
        "plt.xlabel('data2')\n",
        "plt.title('Graph in 2d')"
      ],
      "metadata": {
        "colab": {
          "base_uri": "https://localhost:8080/",
          "height": 312
        },
        "id": "zOtzdOqWtGCQ",
        "outputId": "38b37aa7-f47b-4470-9b76-58896bdeac3a"
      },
      "execution_count": 74,
      "outputs": [
        {
          "output_type": "execute_result",
          "data": {
            "text/plain": [
              "Text(0.5, 1.0, 'Graph in 2d')"
            ]
          },
          "metadata": {},
          "execution_count": 74
        },
        {
          "output_type": "display_data",
          "data": {
            "image/png": "[encoded data removed]",
            "text/plain": [
              "<Figure size 432x288 with 1 Axes>"
            ]
          },
          "metadata": {
            "needs_background": "light"
          }
        }
      ]
    },
    {
      "cell_type": "code",
      "source": [
        "plt.plot(data1,data2,'b*--')\n",
        "plt.xlabel('data1')\n",
        "plt.xlabel('data2')\n",
        "plt.title('dashed line with star marks')\n",
        "# adding grids to the graph\n",
        "plt.grid()\n"
      ],
      "metadata": {
        "colab": {
          "base_uri": "https://localhost:8080/",
          "height": 295
        },
        "id": "yrLvf5-xuKph",
        "outputId": "1eb082de-f496-46b9-f7c7-27740a680409"
      },
      "execution_count": 81,
      "outputs": [
        {
          "output_type": "display_data",
          "data": {
            "image/png": "[encoded data removed]",
            "text/plain": [
              "<Figure size 432x288 with 1 Axes>"
            ]
          },
          "metadata": {
            "needs_background": "light"
          }
        }
      ]
    },
    {
      "cell_type": "code",
      "source": [
        ""
      ],
      "metadata": {
        "id": "zpmUTnIXud8l"
      },
      "execution_count": null,
      "outputs": []
    }
  ]
}